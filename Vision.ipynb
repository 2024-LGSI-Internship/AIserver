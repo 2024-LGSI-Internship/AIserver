{
  "nbformat": 4,
  "nbformat_minor": 0,
  "metadata": {
    "colab": {
      "provenance": []
    },
    "kernelspec": {
      "name": "python3",
      "display_name": "Python 3"
    },
    "language_info": {
      "name": "python"
    }
  },
  "cells": [
    {
      "cell_type": "code",
      "execution_count": 11,
      "metadata": {
        "id": "gDtqCY3zJ8YZ"
      },
      "outputs": [],
      "source": [
        "!pip -q install flask-ngrok\n",
        "!mkdir -p /root/.ngrok2/\n",
        "!echo \"authtoken: 2bfWmDGEi2kchNrENYrDuPiEmaZ_3Z7s5gsteZ1UeksBZTVnU\" > /root/.ngrok2/ngrok.yml"
      ]
    },
    {
      "cell_type": "code",
      "source": [
        "# prompt: google drive mount\n",
        "\n",
        "from google.colab import drive\n",
        "drive.mount('/content/drive')\n"
      ],
      "metadata": {
        "colab": {
          "base_uri": "https://localhost:8080/"
        },
        "id": "Kc3PYRWgJ-tk",
        "outputId": "d698d8d7-af13-4067-c1fd-13cde7fbddff"
      },
      "execution_count": 12,
      "outputs": [
        {
          "output_type": "stream",
          "name": "stdout",
          "text": [
            "Drive already mounted at /content/drive; to attempt to forcibly remount, call drive.mount(\"/content/drive\", force_remount=True).\n"
          ]
        }
      ]
    },
    {
      "cell_type": "code",
      "source": [
        "from flask import jsonify, request\n",
        "from flask import Flask\n",
        "from flask_ngrok import run_with_ngrok\n",
        "import torch\n",
        "import torch.nn as nn\n",
        "from torchvision import transforms, models\n",
        "from PIL import Image\n",
        "import json\n",
        "from io import BytesIO\n",
        "import base64\n",
        "import requests\n",
        "\n",
        "# 모델 정의\n",
        "class CustomResNet18(nn.Module):\n",
        "    def __init__(self, num_classes=3):\n",
        "        super(CustomResNet18, self).__init__()\n",
        "        self.resnet18 = models.resnet18(pretrained=False)\n",
        "        in_features = self.resnet18.fc.in_features\n",
        "        self.resnet18.fc = nn.Linear(in_features, num_classes)\n",
        "\n",
        "    def forward(self, x):\n",
        "        return self.resnet18(x)\n",
        "\n",
        "# 모델 인스턴스 생성\n",
        "model = CustomResNet18(num_classes=3)\n",
        "\n",
        "# 학습된 가중치 로드\n",
        "state_dict = torch.load(\"/content/drive/MyDrive/AIR/resnet_pre_epoch_7.pth\")\n",
        "# 모델의 state_dict와 불러온 state_dict의 키를 비교해 일치하도록 수정\n",
        "model_dict = model.state_dict()\n",
        "state_dict = {k: v for k, v in state_dict.items() if k in model_dict}\n",
        "model_dict.update(state_dict)\n",
        "model.load_state_dict(model_dict)\n",
        "model.eval()\n",
        "\n",
        "\n",
        "# 이미지 전처리\n",
        "transform = transforms.Compose([\n",
        "    transforms.Resize((224, 224)),\n",
        "    transforms.ToTensor(),\n",
        "])\n",
        "\n",
        "\n",
        "\n",
        "\n",
        "app = Flask(__name__)\n",
        "run_with_ngrok(app)\n",
        "\n",
        "@app.route('/img', methods=[\"POST\", \"GET\"])\n",
        "def home():\n",
        "    dict_data = request.get_json()\n",
        "\n",
        "    img = dict_data['img']\n",
        "    img = base64.b64decode(img)\n",
        "    img = BytesIO(img)\n",
        "    img = Image.open(img)\n",
        "\n",
        "    # img.save('test.jpg')\n",
        "    input_tensor = transform(img)\n",
        "    input_batch = input_tensor.unsqueeze(0)  # Add batch dimension\n",
        "\n",
        "    # Model prediction\n",
        "    with torch.no_grad():\n",
        "        output = model(input_batch)\n",
        "\n",
        "    # Get predicted class\n",
        "    _, predicted_class = torch.max(output, 1)\n",
        "\n",
        "    if predicted_class.item()==0:\n",
        "        return_val=\"tower\"\n",
        "    elif predicted_class.item()==1:\n",
        "        return_val=\"wing\"\n",
        "    else:\n",
        "        return_val=\"dual\"\n",
        "\n",
        "\n",
        "\n",
        "    # Send a POST request to another server with the predicted class\n",
        "    url = 'http://33a9-34-141-212-81.ngrok-free.app/chat'\n",
        "    data = {\"input\": return_val}\n",
        "    headers = {'Content-Type': 'application/json'}\n",
        "\n",
        "    # Send a POST request to the second server\n",
        "    r=requests.post(url, json=data, headers=headers)\n",
        "\n",
        "    response_data = r.json()\n",
        "\n",
        "    # Get the value associated with the 'output' key\n",
        "    output_value = response_data.get('output', '')\n",
        "\n",
        "\n",
        "    return jsonify({\"output\": output})\n",
        "\n",
        "app.run()"
      ],
      "metadata": {
        "colab": {
          "base_uri": "https://localhost:8080/"
        },
        "id": "P4ltFEMWJ_uE",
        "outputId": "5212fe69-f35b-4b24-ff4e-64904f0f3a03"
      },
      "execution_count": null,
      "outputs": [
        {
          "output_type": "stream",
          "name": "stdout",
          "text": [
            " * Serving Flask app '__main__'\n",
            " * Debug mode: off\n"
          ]
        },
        {
          "output_type": "stream",
          "name": "stderr",
          "text": [
            "INFO:werkzeug:\u001b[31m\u001b[1mWARNING: This is a development server. Do not use it in a production deployment. Use a production WSGI server instead.\u001b[0m\n",
            " * Running on http://127.0.0.1:5000\n",
            "INFO:werkzeug:\u001b[33mPress CTRL+C to quit\u001b[0m\n"
          ]
        },
        {
          "output_type": "stream",
          "name": "stdout",
          "text": [
            " * Running on http://2847-35-245-211-53.ngrok-free.app\n",
            " * Traffic stats available on http://127.0.0.1:4040\n"
          ]
        },
        {
          "output_type": "stream",
          "name": "stderr",
          "text": [
            "INFO:werkzeug:127.0.0.1 - - [02/Feb/2024 05:11:12] \"\u001b[33mGET / HTTP/1.1\u001b[0m\" 404 -\n",
            "INFO:werkzeug:127.0.0.1 - - [02/Feb/2024 05:11:13] \"\u001b[33mGET /favicon.ico HTTP/1.1\u001b[0m\" 404 -\n"
          ]
        }
      ]
    }
  ]
}